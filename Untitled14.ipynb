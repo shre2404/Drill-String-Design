{
  "nbformat": 4,
  "nbformat_minor": 0,
  "metadata": {
    "colab": {
      "provenance": []
    },
    "kernelspec": {
      "name": "python3",
      "display_name": "Python 3"
    },
    "language_info": {
      "name": "python"
    }
  },
  "cells": [
    {
      "cell_type": "markdown",
      "source": [
        "<p style=\"text-align:center\">\n",
        "    <a href=\"https://skills.network\" target=\"_blank\">\n",
        "    <img src=\"https://1.bp.blogspot.com/-lIGKNt3nIvI/XhnubThKaqI/AAAAAAAAEUA/MQyy501gqoY77slcVpKzueK7y9zaUCLLQCLcBGAsYHQ/s1600/drill%2Bstring%2Bdiagram.png\" width=\"300\" alt=\"Skills Network Logo\">\n",
        "    </a>\n",
        "</p>\n",
        "\n",
        "\n",
        "## Drill String Designing\n",
        "\n",
        "\n"
      ],
      "metadata": {
        "id": "41l7IXqQJTWg"
      }
    },
    {
      "cell_type": "markdown",
      "source": [
        "We are trying to check the design and comment on the safety of each section under normal design condition and normal design factor."
      ],
      "metadata": {
        "id": "aEri4cbAJenJ"
      }
    },
    {
      "cell_type": "code",
      "source": [
        "L = 12000  # well depth in feet\n",
        "md = 12  # mud desnity in ppg\n",
        "MOP = 50000  # Margin of Overpull in lbs\n",
        "WOB= 60000  # Weight on Bit in lbs\n",
        "Pf=5400 # Formation Pressure in psi\n",
        "SFT=1.35 # Safety Factor\n",
        "# Drill collar details\n",
        "dec = 6.5  # drill_collar_outside diameter in inches\n",
        "dic= 2.5  # drill_collar_inside diameter in inches\n",
        "Lc= 600 # drill collar height in feet\n",
        "# Drill pipe details\n",
        "dep = 5  #drill_pipe_outside diameter in inches\n",
        "dip = 4.276  #drill_pipe_inside diameter in inches\n",
        "wp = 19.5  # in drill pipe weight in lbs/ft"
      ],
      "metadata": {
        "id": "IBHdNKjjJZj3"
      },
      "execution_count": 146,
      "outputs": []
    },
    {
      "cell_type": "code",
      "source": [
        "import pandas as pd\n",
        "\n",
        "# Data from the table in the image\n",
        "\n",
        "data = {\n",
        "    \"Section\": [1,2,3],\n",
        "    \"Grade\": [\"D-55\",  \"E-75\",\"X-95\"],\n",
        "     \"Ym\": [55000, 75000, 95000],\n",
        "\n",
        "    \"Class\":[3,2,\"P(Premium)\"],\n",
        "\n",
        "    \"Weight (ppf)\": [21.5,22.8,23.6],\n",
        "    \"Length (ft)\": [5500, 2100,3800 ],\"Collapse Pressure,Pc (psi)\": [2820,4760,8230]\n",
        "\n",
        "}\n",
        "\n",
        "# Creating DataFrame\n",
        "df = pd.DataFrame(data)\n",
        "\n",
        "\n",
        "df['Wa'] = (wdc*Lc+(df['Weight (ppf)'] * df['Length (ft)']).cumsum())*b# Load up to top of section lbs\n",
        "# Display the DataFrame\n",
        "print(df)"
      ],
      "metadata": {
        "colab": {
          "base_uri": "https://localhost:8080/"
        },
        "id": "T9PS8LrQLWww",
        "outputId": "513108b2-ccc5-4cfa-b0a8-0a30c1ef6d82"
      },
      "execution_count": 147,
      "outputs": [
        {
          "output_type": "stream",
          "name": "stdout",
          "text": [
            "   Section Grade     Ym       Class  Weight (ppf)  Length (ft)  \\\n",
            "0        1  D-55  55000           3          21.5         5500   \n",
            "1        2  E-75  75000           2          22.8         2100   \n",
            "2        3  X-95  95000  P(Premium)          23.6         3800   \n",
            "\n",
            "   Collapse Pressure,Pc (psi)             Wa  \n",
            "0                        2820  143642.733945  \n",
            "1                        4760  182737.412844  \n",
            "2                        8230  255962.366972  \n"
          ]
        }
      ]
    },
    {
      "cell_type": "code",
      "source": [
        "t=(dec-dic)/2\n",
        "print(t)\n"
      ],
      "metadata": {
        "colab": {
          "base_uri": "https://localhost:8080/"
        },
        "id": "oxzovUCYOcki",
        "outputId": "5c4bd8fe-da95-4514-d397-2cba2b8080f3"
      },
      "execution_count": 148,
      "outputs": [
        {
          "output_type": "stream",
          "name": "stdout",
          "text": [
            "2.0\n"
          ]
        }
      ]
    },
    {
      "cell_type": "code",
      "source": [
        "wdc=10.68*t*(dec-t)\n",
        "print(wdc)\n"
      ],
      "metadata": {
        "colab": {
          "base_uri": "https://localhost:8080/"
        },
        "id": "8lx7Ue7mPlp6",
        "outputId": "61e58e12-f451-4f15-af70-4d2eb39eff53"
      },
      "execution_count": 149,
      "outputs": [
        {
          "output_type": "stream",
          "name": "stdout",
          "text": [
            "96.12\n"
          ]
        }
      ]
    },
    {
      "cell_type": "code",
      "source": [
        "b=(65.4-md)/65.4\n",
        "print(b)"
      ],
      "metadata": {
        "colab": {
          "base_uri": "https://localhost:8080/"
        },
        "id": "whtuNGe1mjgM",
        "outputId": "519b25e7-5665-49b1-bad9-791f04c10659"
      },
      "execution_count": 150,
      "outputs": [
        {
          "output_type": "stream",
          "name": "stdout",
          "text": [
            "0.8165137614678899\n"
          ]
        }
      ]
    },
    {
      "cell_type": "code",
      "source": [
        "import pandas as pd\n",
        "\n",
        "# Function to calculate values based on t and d\n",
        "def calculate_values(t, d):\n",
        "    # Class 1 (New)\n",
        "    tst_new = t\n",
        "    tsd_new = d\n",
        "    pst_new = t\n",
        "    psd_new= d\n",
        "\n",
        "    # Class P (Premium)\n",
        "    tst_premium = t * 0.8\n",
        "    tsd_premium = d - t* 0.4\n",
        "    pst_premium = t * 0.8\n",
        "    psd_premium = d - t* 0.4\n",
        "     # Class 2\n",
        "    tst_2 =0.8*t\n",
        "    tsd_2 = d-0.4*t\n",
        "    pst_2 =0.65*t\n",
        "    psd_2 = d-0.7*t\n",
        "    # Class 3\n",
        "    tst_3 = t * 0.625\n",
        "    tsd_3 = d-0.75*t\n",
        "    pst_3 = t * 0.55\n",
        "    psd_3 = d-0.9*t\n",
        "\n",
        "    # Additional classes can be added here following the same pattern\n",
        "\n",
        "    # Create a dictionary with the calculated data\n",
        "    data = {\n",
        "        \"Class\": [\"1(New)\", \"P(Premium)\",2,3],\n",
        "        \"t for Tensile strength\": [tst_new, tst_premium,tst_2,tst_3],\n",
        "        \"d for Tensile Strength\": [tsd_new, tsd_premium,tsd_2,tsd_3],\n",
        "        \"t for Pressure\": [pst_new, pst_premium,pst_2,pst_3],\n",
        "        \"d for Pressure\": [psd_new, psd_premium,psd_2,psd_3],\n",
        "    }\n",
        "\n",
        "    # Create a DataFrame\n",
        "    dt = pd.DataFrame(data)\n",
        "    return dt\n",
        "\n",
        "# Input values from user\n",
        "t = (dep-dip)/2\n",
        "d = dep\n",
        "\n",
        "# Calculate the table data\n",
        "dt = calculate_values(t, d)\n",
        "\n",
        "# Display the DataFrame\n",
        "print(dt)\n"
      ],
      "metadata": {
        "colab": {
          "base_uri": "https://localhost:8080/"
        },
        "id": "EhMAOUbxPzCn",
        "outputId": "0e06d224-0408-45be-82b9-d4a00cbe82ff"
      },
      "execution_count": 151,
      "outputs": [
        {
          "output_type": "stream",
          "name": "stdout",
          "text": [
            "        Class  t for Tensile strength  d for Tensile Strength  t for Pressure  \\\n",
            "0      1(New)                 0.36200                  5.0000          0.3620   \n",
            "1  P(Premium)                 0.28960                  4.8552          0.2896   \n",
            "2           2                 0.28960                  4.8552          0.2353   \n",
            "3           3                 0.22625                  4.7285          0.1991   \n",
            "\n",
            "   d for Pressure  \n",
            "0          5.0000  \n",
            "1          4.8552  \n",
            "2          4.7466  \n",
            "3          4.6742  \n"
          ]
        }
      ]
    },
    {
      "cell_type": "code",
      "source": [
        "import math\n",
        "\n",
        "merged_df = pd.merge(df, dt, on=\"Class\", how=\"left\")\n",
        "\n",
        "# Function to calculate pressure based on the merged data\n",
        "def calculate_pressure(row):\n",
        "    if row[\"Class\"] == \"1(New)\":\n",
        "        return (1.75 *  row[\"t for Pressure\"]  * row[\"Ym\"]) / d\n",
        "    else:\n",
        "        return (2 *  row[\"t for Pressure\"]  * row[\"Ym\"]) / d\n",
        "\n",
        "\n",
        "\n",
        "merged_df[\"Burst Pressure,Pb(psi)\"] = merged_df.apply(calculate_pressure, axis=1)\n",
        "merged_df['Tensile Strength,Pt(lbs)'] = merged_df['Ym'] * math.pi * merged_df['t for Tensile strength'] * (merged_df['d for Tensile Strength'] - merged_df['t for Tensile strength'])\n",
        "merged_df['Pa'] = merged_df['Tensile Strength,Pt(lbs)']*0.9\n",
        "\n",
        "\n",
        "selected_columns = ['Section', 'Grade', 'Class', 'Weight (ppf)','Collapse Pressure,Pc (psi)','Burst Pressure,Pb(psi)','Tensile Strength,Pt(lbs)','Wa','Pa']\n",
        "\n",
        "\n",
        "\n",
        "\n",
        "filtered_df = merged_df.loc[:, selected_columns]\n",
        "\n",
        "\n",
        "\n",
        "print(filtered_df)\n"
      ],
      "metadata": {
        "colab": {
          "base_uri": "https://localhost:8080/"
        },
        "id": "u9Hv6e9hXpKk",
        "outputId": "9ed9cf01-3d63-4a8e-fc9e-30e7a19cca3e"
      },
      "execution_count": 152,
      "outputs": [
        {
          "output_type": "stream",
          "name": "stdout",
          "text": [
            "   Section Grade       Class  Weight (ppf)  Collapse Pressure,Pc (psi)  \\\n",
            "0        1  D-55           3          21.5                        2820   \n",
            "1        2  E-75           2          22.8                        4760   \n",
            "2        3  X-95  P(Premium)          23.6                        8230   \n",
            "\n",
            "   Burst Pressure,Pb(psi)  Tensile Strength,Pt(lbs)             Wa  \\\n",
            "0                  4380.2             176007.330810  143642.733945   \n",
            "1                  7059.0             311535.507706  182737.412844   \n",
            "2                 11004.8             394611.643094  255962.366972   \n",
            "\n",
            "              Pa  \n",
            "0  158406.597729  \n",
            "1  280381.956935  \n",
            "2  355150.478784  \n"
          ]
        }
      ]
    },
    {
      "cell_type": "markdown",
      "source": [
        "CROSS CHECKING FOR DRILL COLLAR"
      ],
      "metadata": {
        "id": "O42DhTA-mTvv"
      }
    },
    {
      "cell_type": "markdown",
      "source": [
        "changing data type of columns burst pressure and tensile strength\n"
      ],
      "metadata": {
        "id": "80PU9tbjo8UH"
      }
    },
    {
      "cell_type": "code",
      "source": [
        "filtered_df['Burst Pressure,Pb(psi)']  = filtered_df['Burst Pressure,Pb(psi)'] .round(decimals=0)\n",
        "filtered_df['Tensile Strength,Pt(lbs)']  = filtered_df['Tensile Strength,Pt(lbs)'] .round(decimals=0)\n",
        "filtered_df['Wa']  = filtered_df['Wa'] .round(decimals=0)\n",
        "filtered_df['Pa']  = filtered_df['Pa'] .round(decimals=0)\n",
        "\n",
        "filtered_df['Burst Pressure,Pb(psi)'] = filtered_df['Burst Pressure,Pb(psi)'].astype(int)\n",
        "filtered_df['Tensile Strength,Pt(lbs)'] = filtered_df['Tensile Strength,Pt(lbs)'].astype(int)\n",
        "filtered_df['Wa']  = filtered_df['Wa'] .astype(int)\n",
        "filtered_df['Pa']  = filtered_df['Pa'] .astype(int)"
      ],
      "metadata": {
        "id": "az2PYDypllgl"
      },
      "execution_count": 153,
      "outputs": []
    },
    {
      "cell_type": "code",
      "source": [
        "print(filtered_df)"
      ],
      "metadata": {
        "colab": {
          "base_uri": "https://localhost:8080/"
        },
        "id": "5maU3_VvpPxu",
        "outputId": "014c5d2c-9520-4d4c-afcc-15bbfd4b74eb"
      },
      "execution_count": 154,
      "outputs": [
        {
          "output_type": "stream",
          "name": "stdout",
          "text": [
            "   Section Grade       Class  Weight (ppf)  Collapse Pressure,Pc (psi)  \\\n",
            "0        1  D-55           3          21.5                        2820   \n",
            "1        2  E-75           2          22.8                        4760   \n",
            "2        3  X-95  P(Premium)          23.6                        8230   \n",
            "\n",
            "   Burst Pressure,Pb(psi)  Tensile Strength,Pt(lbs)      Wa      Pa  \n",
            "0                    4380                    176007  143643  158407  \n",
            "1                    7059                    311536  182737  280382  \n",
            "2                   11005                    394612  255962  355150  \n"
          ]
        }
      ]
    },
    {
      "cell_type": "code",
      "source": [
        "AWOB=int(Lc*(wdc-(1-b)*(wp-wdc))-L*wp*(1-b))\n",
        "print(AWOB)\n",
        "\n"
      ],
      "metadata": {
        "colab": {
          "base_uri": "https://localhost:8080/"
        },
        "id": "geHn8EGPpXE4",
        "outputId": "c8edc5ed-36a6-4304-e857-2389f5df09e9"
      },
      "execution_count": 155,
      "outputs": [
        {
          "output_type": "stream",
          "name": "stdout",
          "text": [
            "23171\n"
          ]
        }
      ]
    },
    {
      "cell_type": "code",
      "source": [
        "if AWOB<WOB:\n",
        "    print(\"Drill collar is unsafe\")\n",
        "else:\n",
        "  print('Drill Collar is safe')"
      ],
      "metadata": {
        "colab": {
          "base_uri": "https://localhost:8080/"
        },
        "id": "7uvm1WtGvLwH",
        "outputId": "8c58e5c4-2dbc-40de-f779-6f0b71b800f0"
      },
      "execution_count": 156,
      "outputs": [
        {
          "output_type": "stream",
          "name": "stdout",
          "text": [
            "Drill collar is unsafe\n"
          ]
        }
      ]
    },
    {
      "cell_type": "code",
      "source": [
        "filtered_df['AMOP'] = filtered_df['Pa'] - filtered_df['Wa']\n",
        "filtered_df['ASFT'] = filtered_df['Pa']/filtered_df['Wa']\n",
        "print(filtered_df)\n",
        "\n"
      ],
      "metadata": {
        "colab": {
          "base_uri": "https://localhost:8080/"
        },
        "id": "bZ2dKDbSvytB",
        "outputId": "b8ab83b4-6ee4-479d-9028-97cc0ee4b3b9"
      },
      "execution_count": 157,
      "outputs": [
        {
          "output_type": "stream",
          "name": "stdout",
          "text": [
            "   Section Grade       Class  Weight (ppf)  Collapse Pressure,Pc (psi)  \\\n",
            "0        1  D-55           3          21.5                        2820   \n",
            "1        2  E-75           2          22.8                        4760   \n",
            "2        3  X-95  P(Premium)          23.6                        8230   \n",
            "\n",
            "   Burst Pressure,Pb(psi)  Tensile Strength,Pt(lbs)      Wa      Pa   AMOP  \\\n",
            "0                    4380                    176007  143643  158407  14764   \n",
            "1                    7059                    311536  182737  280382  97645   \n",
            "2                   11005                    394612  255962  355150  99188   \n",
            "\n",
            "       ASFT  \n",
            "0  1.102783  \n",
            "1  1.534347  \n",
            "2  1.387511  \n"
          ]
        }
      ]
    },
    {
      "cell_type": "code",
      "source": [
        "\n",
        "filtered_df['Hydrostatic Pressure,Ph']= 0.052 * md * (L-Lc-df['Length (ft)'].cumsum().shift(1).fillna(0))\n",
        "\n",
        "\n",
        "print(filtered_df)"
      ],
      "metadata": {
        "colab": {
          "base_uri": "https://localhost:8080/"
        },
        "id": "c-j9jJxqwZoT",
        "outputId": "df313fc7-7b26-4ea4-a9e9-8296cb05d129"
      },
      "execution_count": 158,
      "outputs": [
        {
          "output_type": "stream",
          "name": "stdout",
          "text": [
            "   Section Grade       Class  Weight (ppf)  Collapse Pressure,Pc (psi)  \\\n",
            "0        1  D-55           3          21.5                        2820   \n",
            "1        2  E-75           2          22.8                        4760   \n",
            "2        3  X-95  P(Premium)          23.6                        8230   \n",
            "\n",
            "   Burst Pressure,Pb(psi)  Tensile Strength,Pt(lbs)      Wa      Pa   AMOP  \\\n",
            "0                    4380                    176007  143643  158407  14764   \n",
            "1                    7059                    311536  182737  280382  97645   \n",
            "2                   11005                    394612  255962  355150  99188   \n",
            "\n",
            "       ASFT  Hydrostatic Pressure,Ph  \n",
            "0  1.102783                   7113.6  \n",
            "1  1.534347                   3681.6  \n",
            "2  1.387511                   2371.2  \n"
          ]
        }
      ]
    },
    {
      "cell_type": "code",
      "source": [
        "filtered_df['ANc']=filtered_df['Collapse Pressure,Pc (psi)']/filtered_df['Hydrostatic Pressure,Ph']\n",
        "filtered_df['ANi']=filtered_df['Burst Pressure,Pb(psi)']/Pf\n",
        "print(filtered_df)"
      ],
      "metadata": {
        "colab": {
          "base_uri": "https://localhost:8080/"
        },
        "id": "EtgP6Tk94R7v",
        "outputId": "8ad038b3-0a7a-4446-bf9f-2259cfa639e5"
      },
      "execution_count": 159,
      "outputs": [
        {
          "output_type": "stream",
          "name": "stdout",
          "text": [
            "   Section Grade       Class  Weight (ppf)  Collapse Pressure,Pc (psi)  \\\n",
            "0        1  D-55           3          21.5                        2820   \n",
            "1        2  E-75           2          22.8                        4760   \n",
            "2        3  X-95  P(Premium)          23.6                        8230   \n",
            "\n",
            "   Burst Pressure,Pb(psi)  Tensile Strength,Pt(lbs)      Wa      Pa   AMOP  \\\n",
            "0                    4380                    176007  143643  158407  14764   \n",
            "1                    7059                    311536  182737  280382  97645   \n",
            "2                   11005                    394612  255962  355150  99188   \n",
            "\n",
            "       ASFT  Hydrostatic Pressure,Ph       ANc       ANi  \n",
            "0  1.102783                   7113.6  0.396424  0.811111  \n",
            "1  1.534347                   3681.6  1.292916  1.307222  \n",
            "2  1.387511                   2371.2  3.470816  2.037963  \n"
          ]
        }
      ]
    },
    {
      "cell_type": "code",
      "source": [
        "filtered_df['ANc'] = filtered_df['ANc'].round(decimals=3)\n",
        "filtered_df['ANi'] = filtered_df['ANi'].round(decimals=3)\n",
        "\n",
        "filtered_df['ASFT'] = filtered_df['ASFT'].round(decimals=2)\n",
        "print(filtered_df)"
      ],
      "metadata": {
        "colab": {
          "base_uri": "https://localhost:8080/"
        },
        "id": "w-2zp5jf9RqJ",
        "outputId": "324b32ce-8d29-4ea5-f55d-a374b3278bf9"
      },
      "execution_count": 160,
      "outputs": [
        {
          "output_type": "stream",
          "name": "stdout",
          "text": [
            "   Section Grade       Class  Weight (ppf)  Collapse Pressure,Pc (psi)  \\\n",
            "0        1  D-55           3          21.5                        2820   \n",
            "1        2  E-75           2          22.8                        4760   \n",
            "2        3  X-95  P(Premium)          23.6                        8230   \n",
            "\n",
            "   Burst Pressure,Pb(psi)  Tensile Strength,Pt(lbs)      Wa      Pa   AMOP  \\\n",
            "0                    4380                    176007  143643  158407  14764   \n",
            "1                    7059                    311536  182737  280382  97645   \n",
            "2                   11005                    394612  255962  355150  99188   \n",
            "\n",
            "   ASFT  Hydrostatic Pressure,Ph    ANc    ANi  \n",
            "0  1.10                   7113.6  0.396  0.811  \n",
            "1  1.53                   3681.6  1.293  1.307  \n",
            "2  1.39                   2371.2  3.471  2.038  \n"
          ]
        }
      ]
    },
    {
      "cell_type": "code",
      "source": [
        "\n",
        "\n",
        "\n",
        "\n",
        "# Define thresholds for each column\n",
        "thresholds = {'AMOP': MOP, 'ASFT': SFT,'ANc':1.125,'ANi':1.000,'AWOB': WOB}\n",
        "\n",
        "highlight_columns = set(thresholds.keys())\n",
        "\n",
        "# Define a function to highlight cells based on column-specific thresholds\n",
        "def highlight_cells(s):\n",
        "    if s.name in highlight_columns:\n",
        "        threshold = thresholds.get(s.name, float('inf'))  # Get threshold for the column\n",
        "        return ['background-color: red' if isinstance(v, (int, float)) and v < threshold else '' for v in s]\n",
        "    else:\n",
        "        return ['' for _ in s]  # No style for other columns\n",
        "\n",
        "# Apply the styling function column-wise\n",
        "special_columns = ['Section', 'Grade', 'Class', 'AMOP','ASFT','ANc','ANi']\n",
        "\n",
        "\n",
        "\n",
        "\n",
        "results_df= filtered_df.loc[:, special_columns]\n",
        "\n",
        "# Display the styled DataFrame in Jupyter Notebook or JupyterLab\n",
        "\n",
        "\n",
        "\n"
      ],
      "metadata": {
        "id": "vMgmxAlj57n8"
      },
      "execution_count": 163,
      "outputs": []
    },
    {
      "cell_type": "code",
      "source": [
        "import numpy as np\n",
        "df['AWOB'] = np.nan  # or you can use a specific default value\n",
        "\n",
        "# New section data to add\n",
        "new_section = pd.DataFrame({\n",
        "    'Section': ['Drill Collar'],\n",
        "    'Grade': np.nan,  # or any appropriate value\n",
        "    'Class': np.nan,  # or any appropriate value\n",
        "    'AMOP': np.nan,  # or any appropriate value\n",
        "    'ASFT': np.nan,  # or any appropriate value\n",
        "    'ANc': np.nan,   # or any appropriate value\n",
        "    'ANi': np.nan,   # or any appropriate value\n",
        "    'AWOB': AWOB  # or any appropriate value\n",
        "})\n",
        "\n",
        "# Add the new row to the existing DataFrame\n",
        "results_df = pd.concat([new_section,results_df], ignore_index=True)\n",
        "results_df = results_df.fillna('-')\n",
        "print(results_df)"
      ],
      "metadata": {
        "colab": {
          "base_uri": "https://localhost:8080/"
        },
        "id": "UCxD-ktR8L1X",
        "outputId": "b731b851-6206-4be5-e64e-bd06a644a2f1"
      },
      "execution_count": 165,
      "outputs": [
        {
          "output_type": "stream",
          "name": "stdout",
          "text": [
            "        Section Grade       Class     AMOP  ASFT    ANc    ANi     AWOB\n",
            "0  Drill Collar     -           -        -     -      -      -  23171.0\n",
            "1             1  D-55           3  14764.0   1.1  0.396  0.811        -\n",
            "2             2  E-75           2  97645.0  1.53  1.293  1.307        -\n",
            "3             3  X-95  P(Premium)  99188.0  1.39  3.471  2.038        -\n"
          ]
        }
      ]
    },
    {
      "cell_type": "code",
      "source": [
        "styled_df = results_df.style.apply(highlight_cells)\n",
        "styled_df"
      ],
      "metadata": {
        "colab": {
          "base_uri": "https://localhost:8080/",
          "height": 174
        },
        "id": "SWNF7bc9BBsW",
        "outputId": "3aafcb11-2657-4fd3-9763-c89575388019"
      },
      "execution_count": 166,
      "outputs": [
        {
          "output_type": "execute_result",
          "data": {
            "text/plain": [
              "<pandas.io.formats.style.Styler at 0x7dc4689c4370>"
            ],
            "text/html": [
              "<style type=\"text/css\">\n",
              "#T_3eaf1_row0_col7, #T_3eaf1_row1_col3, #T_3eaf1_row1_col4, #T_3eaf1_row1_col5, #T_3eaf1_row1_col6 {\n",
              "  background-color: red;\n",
              "}\n",
              "</style>\n",
              "<table id=\"T_3eaf1\" class=\"dataframe\">\n",
              "  <thead>\n",
              "    <tr>\n",
              "      <th class=\"blank level0\" >&nbsp;</th>\n",
              "      <th id=\"T_3eaf1_level0_col0\" class=\"col_heading level0 col0\" >Section</th>\n",
              "      <th id=\"T_3eaf1_level0_col1\" class=\"col_heading level0 col1\" >Grade</th>\n",
              "      <th id=\"T_3eaf1_level0_col2\" class=\"col_heading level0 col2\" >Class</th>\n",
              "      <th id=\"T_3eaf1_level0_col3\" class=\"col_heading level0 col3\" >AMOP</th>\n",
              "      <th id=\"T_3eaf1_level0_col4\" class=\"col_heading level0 col4\" >ASFT</th>\n",
              "      <th id=\"T_3eaf1_level0_col5\" class=\"col_heading level0 col5\" >ANc</th>\n",
              "      <th id=\"T_3eaf1_level0_col6\" class=\"col_heading level0 col6\" >ANi</th>\n",
              "      <th id=\"T_3eaf1_level0_col7\" class=\"col_heading level0 col7\" >AWOB</th>\n",
              "    </tr>\n",
              "  </thead>\n",
              "  <tbody>\n",
              "    <tr>\n",
              "      <th id=\"T_3eaf1_level0_row0\" class=\"row_heading level0 row0\" >0</th>\n",
              "      <td id=\"T_3eaf1_row0_col0\" class=\"data row0 col0\" >Drill Collar</td>\n",
              "      <td id=\"T_3eaf1_row0_col1\" class=\"data row0 col1\" >-</td>\n",
              "      <td id=\"T_3eaf1_row0_col2\" class=\"data row0 col2\" >-</td>\n",
              "      <td id=\"T_3eaf1_row0_col3\" class=\"data row0 col3\" >-</td>\n",
              "      <td id=\"T_3eaf1_row0_col4\" class=\"data row0 col4\" >-</td>\n",
              "      <td id=\"T_3eaf1_row0_col5\" class=\"data row0 col5\" >-</td>\n",
              "      <td id=\"T_3eaf1_row0_col6\" class=\"data row0 col6\" >-</td>\n",
              "      <td id=\"T_3eaf1_row0_col7\" class=\"data row0 col7\" >23171.000000</td>\n",
              "    </tr>\n",
              "    <tr>\n",
              "      <th id=\"T_3eaf1_level0_row1\" class=\"row_heading level0 row1\" >1</th>\n",
              "      <td id=\"T_3eaf1_row1_col0\" class=\"data row1 col0\" >1</td>\n",
              "      <td id=\"T_3eaf1_row1_col1\" class=\"data row1 col1\" >D-55</td>\n",
              "      <td id=\"T_3eaf1_row1_col2\" class=\"data row1 col2\" >3</td>\n",
              "      <td id=\"T_3eaf1_row1_col3\" class=\"data row1 col3\" >14764.000000</td>\n",
              "      <td id=\"T_3eaf1_row1_col4\" class=\"data row1 col4\" >1.100000</td>\n",
              "      <td id=\"T_3eaf1_row1_col5\" class=\"data row1 col5\" >0.396000</td>\n",
              "      <td id=\"T_3eaf1_row1_col6\" class=\"data row1 col6\" >0.811000</td>\n",
              "      <td id=\"T_3eaf1_row1_col7\" class=\"data row1 col7\" >-</td>\n",
              "    </tr>\n",
              "    <tr>\n",
              "      <th id=\"T_3eaf1_level0_row2\" class=\"row_heading level0 row2\" >2</th>\n",
              "      <td id=\"T_3eaf1_row2_col0\" class=\"data row2 col0\" >2</td>\n",
              "      <td id=\"T_3eaf1_row2_col1\" class=\"data row2 col1\" >E-75</td>\n",
              "      <td id=\"T_3eaf1_row2_col2\" class=\"data row2 col2\" >2</td>\n",
              "      <td id=\"T_3eaf1_row2_col3\" class=\"data row2 col3\" >97645.000000</td>\n",
              "      <td id=\"T_3eaf1_row2_col4\" class=\"data row2 col4\" >1.530000</td>\n",
              "      <td id=\"T_3eaf1_row2_col5\" class=\"data row2 col5\" >1.293000</td>\n",
              "      <td id=\"T_3eaf1_row2_col6\" class=\"data row2 col6\" >1.307000</td>\n",
              "      <td id=\"T_3eaf1_row2_col7\" class=\"data row2 col7\" >-</td>\n",
              "    </tr>\n",
              "    <tr>\n",
              "      <th id=\"T_3eaf1_level0_row3\" class=\"row_heading level0 row3\" >3</th>\n",
              "      <td id=\"T_3eaf1_row3_col0\" class=\"data row3 col0\" >3</td>\n",
              "      <td id=\"T_3eaf1_row3_col1\" class=\"data row3 col1\" >X-95</td>\n",
              "      <td id=\"T_3eaf1_row3_col2\" class=\"data row3 col2\" >P(Premium)</td>\n",
              "      <td id=\"T_3eaf1_row3_col3\" class=\"data row3 col3\" >99188.000000</td>\n",
              "      <td id=\"T_3eaf1_row3_col4\" class=\"data row3 col4\" >1.390000</td>\n",
              "      <td id=\"T_3eaf1_row3_col5\" class=\"data row3 col5\" >3.471000</td>\n",
              "      <td id=\"T_3eaf1_row3_col6\" class=\"data row3 col6\" >2.038000</td>\n",
              "      <td id=\"T_3eaf1_row3_col7\" class=\"data row3 col7\" >-</td>\n",
              "    </tr>\n",
              "  </tbody>\n",
              "</table>\n"
            ]
          },
          "metadata": {},
          "execution_count": 166
        }
      ]
    },
    {
      "cell_type": "markdown",
      "source": [
        "<p>\n",
        "This shows the  summary of cross check of drill string design.<br>\n",
        "\n",
        "REMARKS:\n",
        "<br>\n",
        "Drill Collar <code>unsafe</code> for WOB\n",
        "<br>\n",
        "      Section 1 is <code>unsafe</code> for AMOP, ANc ,ANi\n",
        "<br>\n",
        "       Section 2 is <code>safe</code>\n",
        " <br>\n",
        "       Section 3 is <code>safe</code>\n",
        "<p>"
      ],
      "metadata": {
        "id": "zQ3uzZ4gDx_J"
      }
    }
  ]
}